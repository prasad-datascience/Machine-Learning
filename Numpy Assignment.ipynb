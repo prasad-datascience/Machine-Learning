{
 "cells": [
  {
   "cell_type": "code",
   "execution_count": 43,
   "metadata": {},
   "outputs": [],
   "source": [
    "import numpy as np"
   ]
  },
  {
   "cell_type": "code",
   "execution_count": 44,
   "metadata": {},
   "outputs": [
    {
     "name": "stdout",
     "output_type": "stream",
     "text": [
      "Decreasing order of vander matrix when increasing is False:\n",
      "\n",
      " [[   1    1    1    1    1]\n",
      " [  16    8    4    2    1]\n",
      " [  81   27    9    3    1]\n",
      " [ 256   64   16    4    1]\n",
      " [ 625  125   25    5    1]\n",
      " [1296  216   36    6    1]]\n",
      "------------------------------------------------------------\n",
      "Increasing order of vander matrix when increasing is True:\n",
      "\n",
      " [[   1    1    1    1    1]\n",
      " [   1    2    4    8   16]\n",
      " [   1    3    9   27   81]\n",
      " [   1    4   16   64  256]\n",
      " [   1    5   25  125  625]\n",
      " [   1    6   36  216 1296]]\n"
     ]
    }
   ],
   "source": [
    "input_vector = np.array([1,2,3,4,5,6])\n",
    "N = 5\n",
    "inc_false = np.vander(input_vector, N, increasing = False)\n",
    "inc_true = np.vander(input_vector, N, increasing = True)\n",
    "\n",
    "print(\"Decreasing order of vander matrix when increasing is False:\\n\\n\", inc_false)\n",
    "print('-'* 60)\n",
    "print(\"Increasing order of vander matrix when increasing is True:\\n\\n\", inc_true)"
   ]
  },
  {
   "cell_type": "code",
   "execution_count": 45,
   "metadata": {},
   "outputs": [
    {
     "name": "stdout",
     "output_type": "stream",
     "text": [
      "[5.0, 4.67, 5.67, 6.67, 9.67, 28.67, 49.33, 72.67, 84.0, 93.33, 116.33]\n",
      "11\n"
     ]
    }
   ],
   "source": [
    "my_list = [3, 5, 7, 2, 8, 10, 11, 65, 72, 81, 99, 100, 150]\n",
    "k = 3\n",
    "\n",
    "def moving_average(my_list, k):\n",
    "    cumsum = [0]\n",
    "    moving_avg = []\n",
    "    for i, x in enumerate(my_list, 1):\n",
    "        cumsum.append(cumsum[i-1] + x)\n",
    "        if i >= k:\n",
    "            moving_ave_func =  round(((cumsum[i] - cumsum[i-k])/k), 2)\n",
    "            moving_avg.append(moving_ave_func)\n",
    "    print(moving_avg)\n",
    "    print(len(moving_avg))\n",
    "moving_average(my_list, k)"
   ]
  }
 ],
 "metadata": {
  "kernelspec": {
   "display_name": "Python 3",
   "language": "python",
   "name": "python3"
  },
  "language_info": {
   "codemirror_mode": {
    "name": "ipython",
    "version": 3
   },
   "file_extension": ".py",
   "mimetype": "text/x-python",
   "name": "python",
   "nbconvert_exporter": "python",
   "pygments_lexer": "ipython3",
   "version": "3.7.4"
  }
 },
 "nbformat": 4,
 "nbformat_minor": 2
}
