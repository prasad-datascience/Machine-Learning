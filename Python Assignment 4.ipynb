{
 "cells": [
  {
   "cell_type": "code",
   "execution_count": 1,
   "metadata": {},
   "outputs": [
    {
     "name": "stdout",
     "output_type": "stream",
     "text": [
      "Enter Words: Hi, There are many topics to learn in MACHINE LEARNING\n",
      "Enter Number: 5\n"
     ]
    }
   ],
   "source": [
    "words = input('Enter Words: ').split()\n",
    "n = int(input('Enter Number: '))\n",
    "list_words = []\n",
    "def filter_long_words(words, n):\n",
    "    for i in range(len(words)):\n",
    "        if len(words[i]) > n:\n",
    "            list_words.append(words[i])\n",
    "    return list_words  "
   ]
  },
  {
   "cell_type": "code",
   "execution_count": 2,
   "metadata": {},
   "outputs": [
    {
     "data": {
      "text/plain": [
       "['topics', 'MACHINE', 'LEARNING']"
      ]
     },
     "execution_count": 2,
     "metadata": {},
     "output_type": "execute_result"
    }
   ],
   "source": [
    "filter_long_words(words, n)"
   ]
  },
  {
   "cell_type": "code",
   "execution_count": 3,
   "metadata": {},
   "outputs": [
    {
     "name": "stdout",
     "output_type": "stream",
     "text": [
      "Enter Words: Hi, There are many topics to learn in MACHINE LEARNING\n"
     ]
    },
    {
     "data": {
      "text/plain": [
       "[3, 5, 3, 4, 6, 2, 5, 2, 7, 8]"
      ]
     },
     "execution_count": 3,
     "metadata": {},
     "output_type": "execute_result"
    }
   ],
   "source": [
    "words = input('Enter Words: ').split()\n",
    "list_of_integer = []\n",
    "def list_of_words(words):\n",
    "    for i in words:\n",
    "        list_of_integer.append(len(i))\n",
    "    return list_of_integer\n",
    "list_of_words(words)"
   ]
  },
  {
   "cell_type": "code",
   "execution_count": 4,
   "metadata": {},
   "outputs": [
    {
     "data": {
      "text/plain": [
       "[3, 5, 3, 4, 6, 2, 5, 2, 7, 8, 3, 5, 3, 4, 6, 2, 5, 2, 7, 8]"
      ]
     },
     "execution_count": 4,
     "metadata": {},
     "output_type": "execute_result"
    }
   ],
   "source": [
    "list_of_words(words)"
   ]
  },
  {
   "cell_type": "code",
   "execution_count": 7,
   "metadata": {},
   "outputs": [
    {
     "name": "stdout",
     "output_type": "stream",
     "text": [
      "Enter character: elephant\n"
     ]
    },
    {
     "data": {
      "text/plain": [
       "True"
      ]
     },
     "execution_count": 7,
     "metadata": {},
     "output_type": "execute_result"
    }
   ],
   "source": [
    "char = input('Enter character: ')\n",
    "vowels = 'aeiou'\n",
    "def is_start(char):\n",
    "    if char[0] in vowels:\n",
    "        return True\n",
    "    else:\n",
    "        return False\n",
    "is_start(char)"
   ]
  },
  {
   "cell_type": "code",
   "execution_count": 14,
   "metadata": {},
   "outputs": [],
   "source": [
    "import sys\n",
    "import math"
   ]
  },
  {
   "cell_type": "code",
   "execution_count": 17,
   "metadata": {},
   "outputs": [
    {
     "name": "stdout",
     "output_type": "stream",
     "text": [
      "Enter a side: 9\n",
      "Enter b side: 5\n",
      "Enter c side: 7\n"
     ]
    }
   ],
   "source": [
    "a = int(input('Enter a side: '))\n",
    "b = int(input('Enter b side: '))\n",
    "c = int(input('Enter c side: '))\n",
    "    \n",
    "class sides_of_triangle():\n",
    "    \n",
    "    def __init__(self,a,b,c):\n",
    "        self.a = a\n",
    "        self.b = b\n",
    "        self.c = c\n",
    "        \n",
    "    def Area_of_Triangle(self):\n",
    "        s = (a + b + c)/2\n",
    "        Area_of_Triangle = math.sqrt(s*(s-a)*(s-b)*(s-c))\n",
    "        return Area_of_Triangle"
   ]
  },
  {
   "cell_type": "code",
   "execution_count": 18,
   "metadata": {},
   "outputs": [
    {
     "name": "stdout",
     "output_type": "stream",
     "text": [
      "17.41228014936585\n"
     ]
    }
   ],
   "source": [
    "t = sides_of_triangle('a', 'b', 'c')\n",
    "print(t.Area_of_Triangle())"
   ]
  },
  {
   "cell_type": "code",
   "execution_count": null,
   "metadata": {},
   "outputs": [],
   "source": []
  }
 ],
 "metadata": {
  "kernelspec": {
   "display_name": "Python 3",
   "language": "python",
   "name": "python3"
  },
  "language_info": {
   "codemirror_mode": {
    "name": "ipython",
    "version": 3
   },
   "file_extension": ".py",
   "mimetype": "text/x-python",
   "name": "python",
   "nbconvert_exporter": "python",
   "pygments_lexer": "ipython3",
   "version": "3.7.4"
  }
 },
 "nbformat": 4,
 "nbformat_minor": 2
}
